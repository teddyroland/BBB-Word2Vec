{
 "cells": [
  {
   "cell_type": "markdown",
   "metadata": {},
   "source": [
    "# Word2Vec\n",
    "\n",
    "This lesson is designed to explore features of word embeddings produced through the word2vec model.\n",
    "\n",
    "The primary corpus we use consists of the <a href=\"http://txtlab.org/?p=601\">150 English-language novels</a> made available by the <em>.txtLab</em> at McGill University. We also look at a <a href=\"http://ryanheuser.org/word-vectors-1/\">Word2Vec model trained on the ECCO-TCP corpus</a> of 2,350 eighteenth-century literary texts made available by Ryan Heuser. (Note that I have shortened the number of terms in the model by half in order to conserve memory.)\n",
    "\n",
    "For further background on Word2Vec's mechanics, I suggest this <a href=\"https://www.tensorflow.org/versions/r0.8/tutorials/word2vec/index.html\">brief tutorial</a> by Google, especially the sections \"Motivation,\" \"Skip-Gram Model,\" and \"Visualizing.\"\n",
    "\n",
    "### Workshop Agenda\n",
    "<ol>\n",
    "<li>Import & Pre-Processing</li>\n",
    "<li>Word2Vec</li>\n",
    "<ol><li>Training</li>\n",
    "<li>Embeddings</li>\n",
    "<li>Visualization</li>\n",
    "</ol>\n",
    "<li>Saving/Loading Models</li>\n",
    "</ol>"
   ]
  },
  {
   "cell_type": "markdown",
   "metadata": {},
   "source": [
    "# 0. Prep"
   ]
  },
  {
   "cell_type": "markdown",
   "metadata": {},
   "source": [
    "### Visualization parameters"
   ]
  },
  {
   "cell_type": "code",
   "execution_count": 1,
   "metadata": {},
   "outputs": [
    {
     "name": "stdout",
     "output_type": "stream",
     "text": [
      "Populating the interactive namespace from numpy and matplotlib\n"
     ]
    }
   ],
   "source": [
    "%pylab inline\n",
    "matplotlib.style.use('ggplot')"
   ]
  },
  {
   "cell_type": "markdown",
   "metadata": {},
   "source": [
    "### Import Packages"
   ]
  },
  {
   "cell_type": "code",
   "execution_count": 2,
   "metadata": {
    "collapsed": true
   },
   "outputs": [],
   "source": [
    "# Data Wrangling\n",
    "\n",
    "import os\n",
    "import numpy as np\n",
    "import pandas\n",
    "from scipy.spatial.distance import cosine\n",
    "from sklearn.metrics import pairwise\n",
    "from sklearn.manifold import MDS, TSNE"
   ]
  },
  {
   "cell_type": "code",
   "execution_count": 3,
   "metadata": {
    "collapsed": true
   },
   "outputs": [],
   "source": [
    "# Natural Language Processing\n",
    "\n",
    "import gensim\n",
    "import nltk\n",
    "#nltk.download('punkt')\n",
    "from nltk.tokenize import word_tokenize, sent_tokenize"
   ]
  },
  {
   "cell_type": "code",
   "execution_count": 4,
   "metadata": {
    "collapsed": true
   },
   "outputs": [],
   "source": [
    "# Custom Tokenizer for Classroom Use\n",
    "\n",
    "def fast_tokenize(text):\n",
    "    \n",
    "    # Get a list of punctuation marks\n",
    "    from string import punctuation\n",
    "    \n",
    "    lower_case = text.lower()\n",
    "    \n",
    "    # Iterate through text removing punctuation characters\n",
    "    no_punct = \"\".join([char for char in lower_case if char not in punctuation])\n",
    "    \n",
    "    # Split text over whitespace into list of words\n",
    "    tokens = no_punct.split()\n",
    "    \n",
    "    return tokens"
   ]
  },
  {
   "cell_type": "markdown",
   "metadata": {},
   "source": [
    "# 1. Import & Pre-Processing"
   ]
  },
  {
   "cell_type": "markdown",
   "metadata": {},
   "source": [
    "### Corpus Description\n",
    "English-language subset of Andrew Piper's novel corpus, totaling 150 novels by British and American authors spanning the years 1771-1930. These texts reside on disk, each in a separate plaintext file. Metadata is contained in a spreadsheet distributed with the novel files.\n",
    "\n",
    "### Metadata Columns\n",
    "<ol><li>Filename: Name of file on disk</li>\n",
    "<li>ID: Unique ID in Piper corpus</li>\n",
    "<li>Language: Language of novel</li>\n",
    "<li>Date: Initial publication date</li>\n",
    "<li>Title: Title of novel</li>\n",
    "<li>Gender: Authorial gender</li>\n",
    "<li>Person: Textual perspective</li>\n",
    "<li>Length: Number of tokens in novel</li></ol>"
   ]
  },
  {
   "cell_type": "markdown",
   "metadata": {},
   "source": [
    "## Import Metadata"
   ]
  },
  {
   "cell_type": "code",
   "execution_count": 5,
   "metadata": {
    "collapsed": true
   },
   "outputs": [],
   "source": [
    "# Import Metadata into Pandas Dataframe\n",
    "\n",
    "meta_df = pandas.read_csv('resources/txtlab_Novel450_English.csv')"
   ]
  },
  {
   "cell_type": "code",
   "execution_count": null,
   "metadata": {
    "scrolled": true
   },
   "outputs": [],
   "source": [
    "# Check Metadata\n",
    "\n",
    "meta_df"
   ]
  },
  {
   "cell_type": "markdown",
   "metadata": {},
   "source": [
    "## Import Corpus"
   ]
  },
  {
   "cell_type": "code",
   "execution_count": 7,
   "metadata": {
    "collapsed": true
   },
   "outputs": [],
   "source": [
    "# Set location of corpus folder\n",
    "\n",
    "fiction_folder = 'txtlab_Novel450_English/'"
   ]
  },
  {
   "cell_type": "code",
   "execution_count": 8,
   "metadata": {
    "collapsed": true
   },
   "outputs": [],
   "source": [
    "# Collect the text of each file in the 'fiction_folder' on the hard drive\n",
    "\n",
    "# Create empty list, each entry will be the string for a given novel\n",
    "novel_list = []\n",
    "\n",
    "# Iterate through filenames in 'fiction_folder'\n",
    "for filename in os.listdir(fiction_folder):\n",
    "    \n",
    "    # Read novel text as single string\n",
    "    with open(fiction_folder + filename, 'r') as file_in:\n",
    "        this_novel = file_in.read()\n",
    "    \n",
    "    # Add novel text as single string to master list\n",
    "    novel_list.append(this_novel)"
   ]
  },
  {
   "cell_type": "code",
   "execution_count": null,
   "metadata": {},
   "outputs": [],
   "source": [
    "# Inspect first item in novel_list\n",
    "\n",
    "novel_list[0]"
   ]
  },
  {
   "cell_type": "markdown",
   "metadata": {},
   "source": [
    "## Pre-Processing\n",
    "Word2Vec learns about the relationships among words by observing them in context. This means that we want to split our texts into word-units. However, we  want to maintain sentence boundaries as well, since the last word of the previous sentence might skew the meaning of the next sentence.\n",
    "\n",
    "Since novels were imported as single strings, we'll first use <i>sent_tokenize</i> to divide them into sentences, and second, we'll split each sentence into its own list of words."
   ]
  },
  {
   "cell_type": "code",
   "execution_count": 10,
   "metadata": {
    "collapsed": true
   },
   "outputs": [],
   "source": [
    "# Split each novel into sentences\n",
    "\n",
    "sentences = [sentence for novel in novel_list for sentence in sent_tokenize(novel)]"
   ]
  },
  {
   "cell_type": "code",
   "execution_count": 11,
   "metadata": {},
   "outputs": [
    {
     "data": {
      "text/plain": [
       "'\\n\\n\\nAUTHOR’S INTRODUCTION\\n\\n\\n\\nMy dog had made a point on a piece of fallow-ground, and led the curate and me two or three hundred yards over that and some stubble adjoining, in a breathless state of expectation, on a burning first of September.'"
      ]
     },
     "execution_count": 11,
     "metadata": {},
     "output_type": "execute_result"
    }
   ],
   "source": [
    "# Inspect first sentence\n",
    "\n",
    "sentences[0]"
   ]
  },
  {
   "cell_type": "code",
   "execution_count": 12,
   "metadata": {
    "collapsed": true
   },
   "outputs": [],
   "source": [
    "# Split each sentence into tokens\n",
    "\n",
    "words_by_sentence = [fast_tokenize(sentence) for sentence in sentences]"
   ]
  },
  {
   "cell_type": "code",
   "execution_count": 13,
   "metadata": {
    "collapsed": true
   },
   "outputs": [],
   "source": [
    "# Remove any sentences that contain zero tokens\n",
    "\n",
    "words_by_sentence = [sentence for sentence in words_by_sentence if sentence != []]"
   ]
  },
  {
   "cell_type": "code",
   "execution_count": 14,
   "metadata": {
    "scrolled": true
   },
   "outputs": [
    {
     "data": {
      "text/plain": [
       "['author’s',\n",
       " 'introduction',\n",
       " 'my',\n",
       " 'dog',\n",
       " 'had',\n",
       " 'made',\n",
       " 'a',\n",
       " 'point',\n",
       " 'on',\n",
       " 'a',\n",
       " 'piece',\n",
       " 'of',\n",
       " 'fallowground',\n",
       " 'and',\n",
       " 'led',\n",
       " 'the',\n",
       " 'curate',\n",
       " 'and',\n",
       " 'me',\n",
       " 'two',\n",
       " 'or',\n",
       " 'three',\n",
       " 'hundred',\n",
       " 'yards',\n",
       " 'over',\n",
       " 'that',\n",
       " 'and',\n",
       " 'some',\n",
       " 'stubble',\n",
       " 'adjoining',\n",
       " 'in',\n",
       " 'a',\n",
       " 'breathless',\n",
       " 'state',\n",
       " 'of',\n",
       " 'expectation',\n",
       " 'on',\n",
       " 'a',\n",
       " 'burning',\n",
       " 'first',\n",
       " 'of',\n",
       " 'september']"
      ]
     },
     "execution_count": 14,
     "metadata": {},
     "output_type": "execute_result"
    }
   ],
   "source": [
    "# Inspect first sentence\n",
    "\n",
    "words_by_sentence[0]"
   ]
  },
  {
   "cell_type": "markdown",
   "metadata": {},
   "source": [
    "# 2. Word2Vec"
   ]
  },
  {
   "cell_type": "markdown",
   "metadata": {
    "collapsed": true
   },
   "source": [
    "### Word Embedding\n",
    "Word2Vec is the most prominent word embedding algorithm. Word embedding generally attempts to identify semantic relationships between words by observing them in context.\n",
    "\n",
    "Imagine that each word in a novel has its meaning determined by the ones that surround it in a limited window. For example, in Moby Dick's first sentence, “me” is paired on either side by “Call” and “Ishmael.” After observing the windows around every word in the novel (or many novels), the computer will notice a pattern in which “me” falls between similar pairs of words to “her,” “him,” or “them.” Of course, the computer had gone through a similar process over the words “Call” and “Ishmael,” for which “me” is reciprocally part of their contexts.  This chaining of signifiers to one another mirrors some of humanists' most sophisticated interpretative frameworks of language.\n",
    "\n",
    "The two main flavors of Word2Vec are CBOW (Continuous Bag of Words) and Skip-Gram, which can be distinguished partly by their input and output during training. Skip-Gram takes a word of interest as its input (e.g. \"me\") and tries to learn how to predict its context words (\"Call\",\"Ishmael\"). CBOW does the opposite, taking the context words (\"Call\",\"Ishmael\") as a single input and tries to predict the word of interest (\"me\").\n",
    "\n",
    "In general, CBOW is is faster and does well with frequent words, while Skip-Gram potentially represents rare words better.\n",
    "\n",
    "### Word2Vec Features\n",
    "<ul>\n",
    "<li>Size: Number of dimensions for word embedding model</li>\n",
    "<li>Window: Number of context words to observe in each direction</li>\n",
    "<li>min_count: Minimum frequency for words included in model</li>\n",
    "<li>sg (Skip-Gram): '0' indicates CBOW model; '1' indicates Skip-Gram</li>\n",
    "<li>Alpha: Learning rate (initial); prevents model from over-correcting, enables finer tuning</li>\n",
    "<li>Iterations: Number of passes through dataset</li>\n",
    "<li>Batch Size: Number of words to sample from data during each pass</li>\n",
    "</ul>\n",
    "\n",
    "Note: Script uses default value for each argument"
   ]
  },
  {
   "cell_type": "markdown",
   "metadata": {},
   "source": [
    "## Training"
   ]
  },
  {
   "cell_type": "code",
   "execution_count": 15,
   "metadata": {
    "collapsed": true
   },
   "outputs": [],
   "source": [
    "# Train word2vec model from txtLab corpus\n",
    "\n",
    "model = gensim.models.Word2Vec(words_by_sentence, size=100, window=5, \\\n",
    "                               min_count=25, sg=1, alpha=0.025, iter=5, batch_words=10000)"
   ]
  },
  {
   "cell_type": "markdown",
   "metadata": {},
   "source": [
    "## Embeddings"
   ]
  },
  {
   "cell_type": "code",
   "execution_count": 16,
   "metadata": {
    "scrolled": true
   },
   "outputs": [
    {
     "data": {
      "text/plain": [
       "array([ -8.22380126e-01,   1.64342880e-01,   9.55340788e-02,\n",
       "         3.25816035e-01,  -1.52457133e-01,  -7.03769088e-01,\n",
       "        -7.62226060e-02,   9.71872747e-01,   2.40129739e-01,\n",
       "         3.08740556e-01,  -1.29433721e-01,   1.35417968e-01,\n",
       "         1.39258727e-01,   2.32932597e-01,  -1.97724149e-01,\n",
       "         2.33005300e-01,  -4.41207528e-01,  -6.51600212e-02,\n",
       "        -5.09922206e-01,  -2.48481080e-01,   7.45409429e-02,\n",
       "        -3.15204784e-02,  -1.86982036e-01,   2.79949278e-01,\n",
       "         2.30206251e-02,   4.73515987e-01,   1.29174767e-02,\n",
       "         1.47057801e-01,  -1.59653604e-01,   1.33631795e-04,\n",
       "         1.91302225e-02,   1.10629098e-02,  -4.63729680e-01,\n",
       "         1.05601847e-01,   6.20203614e-01,   7.86738619e-02,\n",
       "         2.96308845e-01,  -1.27077356e-01,  -8.14963281e-02,\n",
       "        -4.58102524e-01,  -4.40038353e-01,   7.93931857e-02,\n",
       "        -2.16367245e-02,  -2.50366539e-01,   1.59759551e-01,\n",
       "        -2.44383082e-01,   3.73668045e-01,   4.19167638e-01,\n",
       "         4.20523345e-01,  -3.45861644e-01,   2.45034173e-01,\n",
       "         5.45649409e-01,   2.31687576e-02,  -2.02244788e-01,\n",
       "        -1.27350017e-01,  -2.44821131e-01,   2.56552011e-01,\n",
       "         3.24495792e-01,  -5.57622373e-01,  -5.78631461e-01,\n",
       "        -1.02746673e-03,   7.21517742e-01,   1.29446581e-01,\n",
       "         3.92362893e-01,  -3.33918899e-01,  -8.41509625e-02,\n",
       "        -2.47727260e-01,   2.08169296e-01,   1.11570107e-02,\n",
       "         1.37272611e-01,  -4.19576555e-01,  -5.93227625e-01,\n",
       "        -1.10892616e-01,  -4.37418759e-01,   4.79321927e-01,\n",
       "        -9.49190557e-03,   5.60532033e-01,  -5.69537699e-01,\n",
       "         1.05578862e-01,   6.09950602e-01,  -3.53894681e-01,\n",
       "        -9.61120334e-03,   3.89158756e-01,   4.78581160e-01,\n",
       "        -1.24052800e-01,  -5.94372153e-01,  -2.21697867e-01,\n",
       "        -2.02230886e-01,   2.37133130e-01,   7.61914030e-02,\n",
       "         1.62988871e-01,   2.19339624e-01,  -1.92203552e-01,\n",
       "         9.14799124e-02,   2.33820349e-01,  -3.85936737e-01,\n",
       "         7.72985592e-02,  -2.00424790e-01,  -2.98055202e-01,\n",
       "        -6.81753680e-02], dtype=float32)"
      ]
     },
     "execution_count": 16,
     "metadata": {},
     "output_type": "execute_result"
    }
   ],
   "source": [
    "# Return dense word vector\n",
    "\n",
    "model['whale']"
   ]
  },
  {
   "cell_type": "markdown",
   "metadata": {},
   "source": [
    "## Vector-Space Operations"
   ]
  },
  {
   "cell_type": "markdown",
   "metadata": {},
   "source": [
    "### Similarity\n",
    "Since words are represented as dense vectors, we can ask how similiar words' meanings are based on their cosine similarity (essentially how much they overlap). <em>gensim</em> has a few dout-of-the-box functions that enable different kinds of comparisons."
   ]
  },
  {
   "cell_type": "code",
   "execution_count": 17,
   "metadata": {},
   "outputs": [
    {
     "data": {
      "text/plain": [
       "0.57363124389445053"
      ]
     },
     "execution_count": 17,
     "metadata": {},
     "output_type": "execute_result"
    }
   ],
   "source": [
    "# Find cosine distance between two given word vectors\n",
    "\n",
    "model.similarity('pride','prejudice')"
   ]
  },
  {
   "cell_type": "code",
   "execution_count": 18,
   "metadata": {},
   "outputs": [
    {
     "data": {
      "text/plain": [
       "[('arrogance', 0.7091377973556519),\n",
       " ('vanity', 0.6972477436065674),\n",
       " ('egotism', 0.677453875541687),\n",
       " ('conceit', 0.6751539707183838),\n",
       " ('selfishness', 0.6717022657394409),\n",
       " ('resentment', 0.6698406934738159),\n",
       " ('audacity', 0.6691268682479858),\n",
       " ('anger', 0.6688488125801086),\n",
       " ('heroism', 0.6673762202262878),\n",
       " ('selfconceit', 0.6655232906341553)]"
      ]
     },
     "execution_count": 18,
     "metadata": {},
     "output_type": "execute_result"
    }
   ],
   "source": [
    "# Find nearest word vectors by cosine distance\n",
    "\n",
    "model.most_similar('pride')"
   ]
  },
  {
   "cell_type": "code",
   "execution_count": 19,
   "metadata": {},
   "outputs": [
    {
     "data": {
      "text/plain": [
       "'whale'"
      ]
     },
     "execution_count": 19,
     "metadata": {},
     "output_type": "execute_result"
    }
   ],
   "source": [
    "# Given a list of words, we can ask which doesn't belong\n",
    "\n",
    "# Finds mean vector of words in list\n",
    "# and identifies the word further from that mean\n",
    "\n",
    "model.doesnt_match(['pride','prejudice', 'whale'])"
   ]
  },
  {
   "cell_type": "markdown",
   "metadata": {},
   "source": [
    "### Multiple Valences\n",
    "A word embedding may encode both primary and secondary meanings that are both present at the same time. In order to identify secondary meanings in a word, we can subtract the vectors of primary (or simply unwanted) meanings. For example, we may wish to remove the sense of <em>river bank</em> from the word <em>bank</em>. This would be written mathetmatically as <em>RIVER - BANK</em>, which in <em>gensim</em>'s interface lists <em>RIVER</em> as a positive meaning and <em>BANK</em> as a negative one."
   ]
  },
  {
   "cell_type": "code",
   "execution_count": 20,
   "metadata": {},
   "outputs": [
    {
     "data": {
      "text/plain": [
       "[('illinois', 0.6837126016616821),\n",
       " ('creek', 0.6828964352607727),\n",
       " ('thames', 0.6776638031005859),\n",
       " ('river', 0.6772173643112183),\n",
       " ('flats', 0.6703978776931763),\n",
       " ('cove', 0.6631561517715454),\n",
       " ('plateau', 0.6596856117248535),\n",
       " ('footpath', 0.6588583588600159),\n",
       " ('girard', 0.6564387083053589),\n",
       " ('shore', 0.6536604166030884)]"
      ]
     },
     "execution_count": 20,
     "metadata": {},
     "output_type": "execute_result"
    }
   ],
   "source": [
    "# Get most similar words to BANK, in order\n",
    "# to get a sense for its primary meaning\n",
    "\n",
    "model.most_similar('bank')"
   ]
  },
  {
   "cell_type": "code",
   "execution_count": 21,
   "metadata": {},
   "outputs": [
    {
     "data": {
      "text/plain": [
       "[('testaments', 0.3998016119003296),\n",
       " ('treasury', 0.36606645584106445),\n",
       " ('cheques', 0.36304059624671936),\n",
       " ('disposing', 0.34858405590057373),\n",
       " ('unpaid', 0.34485700726509094),\n",
       " ('memorandum', 0.3445650339126587),\n",
       " ('treasurer', 0.3430730104446411),\n",
       " ('clerk', 0.3391572833061218),\n",
       " ('office', 0.3349580764770508),\n",
       " ('angloindian', 0.33339357376098633)]"
      ]
     },
     "execution_count": 21,
     "metadata": {},
     "output_type": "execute_result"
    }
   ],
   "source": [
    "# Remove the sense of \"river bank\" from \"bank\" and see what is left\n",
    "\n",
    "model.most_similar(positive=['bank'], negative=['river'])"
   ]
  },
  {
   "cell_type": "markdown",
   "metadata": {},
   "source": [
    "### Analogy\n",
    "Analogies are rendered as simple mathematical operations in vector space. For example, the canonic word2vec analogy <em>MAN is to KING as WOMAN is to ??</em> is rendered as <em>KING - MAN + WOMAN</em>. In the gensim interface, we designate <em>KING</em> and <em>WOMAN</em> as positive terms and <em>MAN</em> as a negative term, since it is subtracted from those."
   ]
  },
  {
   "cell_type": "code",
   "execution_count": 22,
   "metadata": {},
   "outputs": [
    {
     "data": {
      "text/plain": [
       "[('duke', 0.7815576195716858),\n",
       " ('kings', 0.7415188550949097),\n",
       " ('minister', 0.7375909090042114),\n",
       " ('prince', 0.7229074835777283),\n",
       " ('emperor', 0.7183017134666443),\n",
       " ('otho', 0.7132425308227539),\n",
       " ('casimir', 0.7090590596199036),\n",
       " ('karl', 0.6967421770095825),\n",
       " ('ruritania', 0.6753348112106323),\n",
       " ('strelsau', 0.6627833247184753)]"
      ]
     },
     "execution_count": 22,
     "metadata": {},
     "output_type": "execute_result"
    }
   ],
   "source": [
    "# Get most similar words to KING, in order\n",
    "# to get a sense for its primary meaning\n",
    "\n",
    "model.most_similar('king')"
   ]
  },
  {
   "cell_type": "code",
   "execution_count": 23,
   "metadata": {},
   "outputs": [
    {
     "data": {
      "text/plain": [
       "[('queen', 0.7532585263252258),\n",
       " ('princess', 0.7063238620758057),\n",
       " ('duchess', 0.6486999988555908),\n",
       " ('duke', 0.6454578638076782),\n",
       " ('virgin', 0.6393348574638367),\n",
       " ('emperor', 0.6371687650680542),\n",
       " ('ruritania', 0.6258261203765869),\n",
       " ('empress', 0.6220406293869019),\n",
       " ('priest', 0.6198825836181641),\n",
       " ('virgins', 0.6180473566055298)]"
      ]
     },
     "execution_count": 23,
     "metadata": {},
     "output_type": "execute_result"
    }
   ],
   "source": [
    "# The canonic word2vec analogy: King - Man + Woman -> Queen\n",
    "\n",
    "model.most_similar(positive=['woman', 'king'], negative=['man'])"
   ]
  },
  {
   "cell_type": "markdown",
   "metadata": {},
   "source": [
    "### Gendered Vectors\n",
    "Can we find gender a la Schmidt (2015)? (Note that this method uses vector projection, whereas Schmidt had used rejection.)"
   ]
  },
  {
   "cell_type": "code",
   "execution_count": 28,
   "metadata": {},
   "outputs": [
    {
     "data": {
      "text/plain": [
       "[('madeline', 0.5467969179153442),\n",
       " ('louisa', 0.4959941506385803),\n",
       " ('agnes', 0.4918912351131439),\n",
       " ('julia', 0.48071807622909546),\n",
       " ('berlinton', 0.46668902039527893),\n",
       " ('edeliza', 0.4624362885951996),\n",
       " ('roseline', 0.45418089628219604),\n",
       " ('pauline', 0.45125430822372437),\n",
       " ('emma', 0.4494338035583496),\n",
       " ('eliza', 0.4467594027519226),\n",
       " ('lucy', 0.4450529217720032),\n",
       " ('beverley', 0.4447824954986572),\n",
       " ('helens', 0.44347715377807617),\n",
       " ('virginia', 0.4338955879211426),\n",
       " ('anne', 0.43370598554611206),\n",
       " ('girlish', 0.4326920211315155),\n",
       " ('lovable', 0.43036437034606934),\n",
       " ('kilman', 0.4299003481864929),\n",
       " ('fragile', 0.42957156896591187),\n",
       " ('wharton', 0.42838430404663086),\n",
       " ('eugenia', 0.42798495292663574),\n",
       " ('bewitching', 0.42683038115501404),\n",
       " ('charms', 0.42507481575012207),\n",
       " ('niece', 0.4239894151687622),\n",
       " ('fanny', 0.4234875440597534),\n",
       " ('emmeline', 0.4227035939693451),\n",
       " ('valery', 0.41939836740493774),\n",
       " ('caroline', 0.4186074733734131),\n",
       " ('liddy', 0.41396182775497437),\n",
       " ('elizabeth', 0.4133676588535309),\n",
       " ('womanly', 0.41024380922317505),\n",
       " ('helen', 0.40855973958969116),\n",
       " ('janes', 0.40752965211868286),\n",
       " ('rosabella', 0.40689918398857117),\n",
       " ('bridal', 0.406127393245697),\n",
       " ('diana', 0.4051266610622406),\n",
       " ('glorvina', 0.4049115777015686),\n",
       " ('charlotte', 0.4048583507537842),\n",
       " ('olenska', 0.4030383229255676),\n",
       " ('prettiness', 0.40171435475349426),\n",
       " ('camilla', 0.4013853669166565),\n",
       " ('loveliest', 0.4009014964103699),\n",
       " ('feminine', 0.4002492427825928),\n",
       " ('fannys', 0.3997907340526581),\n",
       " ('jane', 0.39892736077308655),\n",
       " ('lovely', 0.39683759212493896),\n",
       " ('flora', 0.39681339263916016),\n",
       " ('mary', 0.3956517279148102),\n",
       " ('indiana', 0.3931726813316345),\n",
       " ('brides', 0.3911219835281372)]"
      ]
     },
     "execution_count": 28,
     "metadata": {},
     "output_type": "execute_result"
    }
   ],
   "source": [
    "# Feminine Vector\n",
    "\n",
    "model.most_similar(positive=['she','her','hers','herself'], negative=['he','him','his','himself'], topn=50)"
   ]
  },
  {
   "cell_type": "code",
   "execution_count": 25,
   "metadata": {},
   "outputs": [
    {
     "data": {
      "text/plain": [
       "[('osterman', 0.4396858811378479),\n",
       " ('mahbub', 0.40488001704216003),\n",
       " ('harran', 0.4001975655555725),\n",
       " ('annixter', 0.3985745310783386),\n",
       " ('pipe', 0.3956775665283203),\n",
       " ('bonneville', 0.39561954140663147),\n",
       " ('buck', 0.39459893107414246),\n",
       " ('gun', 0.38652318716049194),\n",
       " ('clerk', 0.3834838271141052),\n",
       " ('railroad', 0.3831042945384979)]"
      ]
     },
     "execution_count": 25,
     "metadata": {},
     "output_type": "execute_result"
    }
   ],
   "source": [
    "# Masculine Vector\n",
    "\n",
    "model.most_similar(positive=['he','him','his','himself'], negative=['she','her','hers','herself'])"
   ]
  },
  {
   "cell_type": "markdown",
   "metadata": {},
   "source": [
    "### Exercises"
   ]
  },
  {
   "cell_type": "code",
   "execution_count": null,
   "metadata": {
    "collapsed": true
   },
   "outputs": [],
   "source": [
    "## EX. Use the most_similar method to find the tokens nearest to 'car' in our model.\n",
    "##     Do the same for 'motorcar'.\n",
    "\n",
    "## Q.  What characterizes each word in our corpus? Does this make sense?"
   ]
  },
  {
   "cell_type": "code",
   "execution_count": null,
   "metadata": {
    "collapsed": true
   },
   "outputs": [],
   "source": [
    "model.most_similar('car')"
   ]
  },
  {
   "cell_type": "code",
   "execution_count": null,
   "metadata": {
    "collapsed": true
   },
   "outputs": [],
   "source": [
    "model.most_similar('motorcar')"
   ]
  },
  {
   "cell_type": "code",
   "execution_count": null,
   "metadata": {
    "collapsed": true
   },
   "outputs": [],
   "source": [
    "## EX. How does our model answer the analogy: MADRID is to SPAIN as PARIS is to __________\n",
    "\n",
    "## Q.  What has our model learned about nation-states?"
   ]
  },
  {
   "cell_type": "code",
   "execution_count": null,
   "metadata": {
    "collapsed": true
   },
   "outputs": [],
   "source": [
    "model.most_similar(positive=['spain', 'paris'], negative=['madrid'])"
   ]
  },
  {
   "cell_type": "code",
   "execution_count": null,
   "metadata": {
    "collapsed": true
   },
   "outputs": [],
   "source": [
    "## EX. Perform the canonic Word2Vec addition again but leave out a term:\n",
    "##     Try 'king' - 'man', 'woman' - 'man', 'woman' + 'king'\n",
    "\n",
    "## Q.  What do these indicate semantically?"
   ]
  },
  {
   "cell_type": "code",
   "execution_count": 29,
   "metadata": {},
   "outputs": [
    {
     "data": {
      "text/plain": [
       "[('kings', 0.47593989968299866),\n",
       " ('royal', 0.45434629917144775),\n",
       " ('reign', 0.4513101875782013),\n",
       " ('——', 0.44086626172065735),\n",
       " ('emperor', 0.4362276792526245),\n",
       " ('strelsau', 0.4240732491016388),\n",
       " ('coronation', 0.42335575819015503),\n",
       " ('saint', 0.42275771498680115),\n",
       " ('ruritania', 0.413887619972229),\n",
       " ('scots', 0.4065362215042114)]"
      ]
     },
     "execution_count": 29,
     "metadata": {},
     "output_type": "execute_result"
    }
   ],
   "source": [
    "model.most_similar(positive=['king'], negative=['man'])"
   ]
  },
  {
   "cell_type": "code",
   "execution_count": null,
   "metadata": {
    "collapsed": true
   },
   "outputs": [],
   "source": [
    "model.most_similar(positive=['woman'], negative=['man'])"
   ]
  },
  {
   "cell_type": "code",
   "execution_count": null,
   "metadata": {
    "collapsed": true
   },
   "outputs": [],
   "source": [
    "model.most_similar(positive=['woman', 'king'])"
   ]
  },
  {
   "cell_type": "markdown",
   "metadata": {},
   "source": [
    "## Visualization"
   ]
  },
  {
   "cell_type": "code",
   "execution_count": null,
   "metadata": {
    "collapsed": true
   },
   "outputs": [],
   "source": [
    "# Dictionary of words in model\n",
    "\n",
    "model.wv.vocab\n",
    "#model.vocab # deprecated"
   ]
  },
  {
   "cell_type": "code",
   "execution_count": null,
   "metadata": {
    "collapsed": true
   },
   "outputs": [],
   "source": [
    "# Visualizing the whole vocabulary would make it hard to read\n",
    "\n",
    "len(model.wv.vocab)\n",
    "#len(model.vocab) # deprecated"
   ]
  },
  {
   "cell_type": "code",
   "execution_count": 30,
   "metadata": {
    "collapsed": true
   },
   "outputs": [],
   "source": [
    "# For interpretability, we'll select words that already have a semantic relation\n",
    "\n",
    "her_tokens = [token for token,weight in model.most_similar(positive=['she','her','hers','herself'], \\\n",
    "                                                       negative=['he','him','his','himself'], topn=50)]"
   ]
  },
  {
   "cell_type": "code",
   "execution_count": 31,
   "metadata": {
    "scrolled": true
   },
   "outputs": [
    {
     "data": {
      "text/plain": [
       "['madeline',\n",
       " 'louisa',\n",
       " 'agnes',\n",
       " 'julia',\n",
       " 'berlinton',\n",
       " 'edeliza',\n",
       " 'roseline',\n",
       " 'pauline',\n",
       " 'emma',\n",
       " 'eliza',\n",
       " 'lucy',\n",
       " 'beverley',\n",
       " 'helens',\n",
       " 'virginia',\n",
       " 'anne',\n",
       " 'girlish',\n",
       " 'lovable',\n",
       " 'kilman',\n",
       " 'fragile',\n",
       " 'wharton',\n",
       " 'eugenia',\n",
       " 'bewitching',\n",
       " 'charms',\n",
       " 'niece',\n",
       " 'fanny',\n",
       " 'emmeline',\n",
       " 'valery',\n",
       " 'caroline',\n",
       " 'liddy',\n",
       " 'elizabeth',\n",
       " 'womanly',\n",
       " 'helen',\n",
       " 'janes',\n",
       " 'rosabella',\n",
       " 'bridal',\n",
       " 'diana',\n",
       " 'glorvina',\n",
       " 'charlotte',\n",
       " 'olenska',\n",
       " 'prettiness',\n",
       " 'camilla',\n",
       " 'loveliest',\n",
       " 'feminine',\n",
       " 'fannys',\n",
       " 'jane',\n",
       " 'lovely',\n",
       " 'flora',\n",
       " 'mary',\n",
       " 'indiana',\n",
       " 'brides']"
      ]
     },
     "execution_count": 31,
     "metadata": {},
     "output_type": "execute_result"
    }
   ],
   "source": [
    "# Inspect list\n",
    "\n",
    "her_tokens"
   ]
  },
  {
   "cell_type": "code",
   "execution_count": 32,
   "metadata": {
    "collapsed": true
   },
   "outputs": [],
   "source": [
    "# Get the vector for each sampled word\n",
    "\n",
    "vectors = [model[word] for word in her_tokens]  "
   ]
  },
  {
   "cell_type": "code",
   "execution_count": 33,
   "metadata": {
    "collapsed": true
   },
   "outputs": [],
   "source": [
    "# Calculate distances among texts in vector space\n",
    "\n",
    "dist_matrix = pairwise.pairwise_distances(vectors, metric='cosine')"
   ]
  },
  {
   "cell_type": "code",
   "execution_count": 34,
   "metadata": {
    "collapsed": true
   },
   "outputs": [],
   "source": [
    "# Multi-Dimensional Scaling (Project vectors into 2-D)\n",
    "\n",
    "mds = MDS(n_components = 2, dissimilarity='precomputed')\n",
    "embeddings = mds.fit_transform(dist_matrix)"
   ]
  },
  {
   "cell_type": "code",
   "execution_count": 35,
   "metadata": {},
   "outputs": [
    {
     "data": {
      "image/png": "[encoded data removed]",
      "text/plain": [
       "<matplotlib.figure.Figure at 0x176780d30>"
      ]
     },
     "metadata": {},
     "output_type": "display_data"
    }
   ],
   "source": [
    "# Fussing with matplotlib\n",
    "\n",
    "_, ax = plt.subplots(figsize=(10,10))\n",
    "ax.scatter(embeddings[:,0], embeddings[:,1], alpha=0)\n",
    "for i in range(len(vectors)):\n",
    "    ax.annotate(her_tokens[i], ((embeddings[i,0], embeddings[i,1])))"
   ]
  },
  {
   "cell_type": "code",
   "execution_count": 36,
   "metadata": {},
   "outputs": [
    {
     "data": {
      "image/png": "[encoded data removed]",
      "text/plain": [
       "<matplotlib.figure.Figure at 0x176808ba8>"
      ]
     },
     "metadata": {},
     "output_type": "display_data"
    }
   ],
   "source": [
    "# For comparison, here is the same graph using a masculine-pronoun vector\n",
    "\n",
    "his_tokens = [token for token,weight in model.most_similar(positive=['he','him','his','himself'], \\\n",
    "                                                       negative=['she','her','hers','herself'], topn=50)]\n",
    "vectors = [model[word] for word in his_tokens]\n",
    "dist_matrix = pairwise.pairwise_distances(vectors, metric='cosine')\n",
    "mds = MDS(n_components = 2, dissimilarity='precomputed')\n",
    "embeddings = mds.fit_transform(dist_matrix)\n",
    "_, ax = plt.subplots(figsize=(10,10))\n",
    "ax.scatter(embeddings[:,0], embeddings[:,1], alpha=0)\n",
    "for i in range(len(vectors)):\n",
    "    ax.annotate(his_tokens[i], ((embeddings[i,0], embeddings[i,1])))"
   ]
  },
  {
   "cell_type": "code",
   "execution_count": null,
   "metadata": {
    "collapsed": true
   },
   "outputs": [],
   "source": [
    "## Q. What kinds of semantic relationships exist in the diagram above?\n",
    "##    Are there any words that seem out of place?"
   ]
  },
  {
   "cell_type": "markdown",
   "metadata": {},
   "source": [
    "<img src=\"resources/fem_vectors.png\", width=\"50%\",style=\"float: left;\" /><img src=\"resources/masc_vectors.png\", width=\"50%\" />"
   ]
  },
  {
   "cell_type": "markdown",
   "metadata": {},
   "source": [
    "# 3. Saving/Loading Models"
   ]
  },
  {
   "cell_type": "code",
   "execution_count": 37,
   "metadata": {
    "collapsed": true
   },
   "outputs": [],
   "source": [
    "# Save current model for later use\n",
    "\n",
    "model.wv.save_word2vec_format('resources/word2vec.txtlab_Novel150_English.txt')\n",
    "#model.save_word2vec_format('resources/word2vec.txtlab_Novel150_English.txt') # deprecated"
   ]
  },
  {
   "cell_type": "code",
   "execution_count": 38,
   "metadata": {
    "collapsed": true
   },
   "outputs": [],
   "source": [
    "# Load up models from disk\n",
    "\n",
    "# Model trained on Eighteenth Century Collections Online corpus (~2500 texts)\n",
    "# Made available by Ryan Heuser: http://ryanheuser.org/word-vectors-1/\n",
    "\n",
    "ecco_model = gensim.models.KeyedVectors.load_word2vec_format('resources/word2vec.ECCO-TCP.txt')\n",
    "#ecco_model = gensim.models.Word2Vec.load_word2vec_format('resources/word2vec.ECCO-TCP.txt') # deprecated"
   ]
  },
  {
   "cell_type": "code",
   "execution_count": 39,
   "metadata": {},
   "outputs": [
    {
     "data": {
      "text/plain": [
       "[('ground', 0.6570006608963013),\n",
       " ('turf', 0.6564096808433533),\n",
       " ('surface', 0.6480724215507507),\n",
       " ('declivity', 0.642420768737793),\n",
       " ('hill', 0.637111485004425),\n",
       " ('bridge', 0.6332241296768188),\n",
       " ('terrace', 0.630118727684021),\n",
       " ('channel', 0.6295770406723022),\n",
       " ('banks', 0.6294738054275513),\n",
       " ('wall', 0.6289103031158447)]"
      ]
     },
     "execution_count": 39,
     "metadata": {},
     "output_type": "execute_result"
    }
   ],
   "source": [
    "# What are similar words to BANK?\n",
    "\n",
    "ecco_model.most_similar('bank')"
   ]
  },
  {
   "cell_type": "code",
   "execution_count": 40,
   "metadata": {},
   "outputs": [
    {
     "data": {
      "text/plain": [
       "[('currency', 0.36714258790016174),\n",
       " ('suit', 0.35922902822494507),\n",
       " ('stamp', 0.3582037687301636),\n",
       " ('promissory', 0.35605305433273315),\n",
       " ('pension', 0.35183221101760864),\n",
       " ('blank', 0.3518177270889282),\n",
       " ('payable', 0.34270501136779785),\n",
       " ('mortality', 0.34262460470199585),\n",
       " ('weekly', 0.3408060669898987),\n",
       " ('weal', 0.3309360146522522)]"
      ]
     },
     "execution_count": 40,
     "metadata": {},
     "output_type": "execute_result"
    }
   ],
   "source": [
    "# What if we remove the sense of \"river bank\"?\n",
    "\n",
    "ecco_model.most_similar(positive=['bank'], negative=['river'])"
   ]
  },
  {
   "cell_type": "markdown",
   "metadata": {},
   "source": [
    "### Exercise"
   ]
  },
  {
   "cell_type": "code",
   "execution_count": null,
   "metadata": {
    "collapsed": true
   },
   "outputs": [],
   "source": [
    "## EX. Heuser's blog post explores an analogy in eighteenth-century thought that\n",
    "##     RICHES are to VIRTUE what LEARNING is to GENIUS. How true is this in\n",
    "##     the ECCO-trained Word2Vec model? Is it true in the one we trained?\n",
    "\n",
    "##  Q. How might we compare word2vec models more generally?"
   ]
  },
  {
   "cell_type": "code",
   "execution_count": 41,
   "metadata": {},
   "outputs": [
    {
     "data": {
      "text/plain": [
       "[('piety', 0.7372760772705078),\n",
       " ('morality', 0.7266901135444641),\n",
       " ('science', 0.6974709630012512),\n",
       " ('prudence', 0.6855394840240479),\n",
       " ('philosophy', 0.6830791234970093),\n",
       " ('wisdom', 0.6511392593383789),\n",
       " ('genius', 0.6505820751190186),\n",
       " ('humanity', 0.640283465385437),\n",
       " ('modesty', 0.6369402408599854),\n",
       " ('morals', 0.6340599060058594)]"
      ]
     },
     "execution_count": 41,
     "metadata": {},
     "output_type": "execute_result"
    }
   ],
   "source": [
    "# ECCO model: RICHES are to VIRTUE what LEARNING is to ??\n",
    "\n",
    "ecco_model.most_similar(positive=['virtue', 'learning'], negative=['riches'])"
   ]
  },
  {
   "cell_type": "code",
   "execution_count": 42,
   "metadata": {
    "scrolled": true
   },
   "outputs": [
    {
     "data": {
      "text/plain": [
       "[('teaching', 0.6101517081260681),\n",
       " ('believer', 0.5892437696456909),\n",
       " ('philosophy', 0.5841563940048218),\n",
       " ('poetry', 0.5647507905960083),\n",
       " ('science', 0.5621806383132935),\n",
       " ('principle', 0.5602642893791199),\n",
       " ('epic', 0.5583522319793701),\n",
       " ('purely', 0.5536725521087646),\n",
       " ('practising', 0.5521074533462524),\n",
       " ('wisdom', 0.5479782819747925)]"
      ]
     },
     "execution_count": 42,
     "metadata": {},
     "output_type": "execute_result"
    }
   ],
   "source": [
    "# txtLab model: RICHES are to VIRTUE what LEARNING is to ??\n",
    "\n",
    "model.most_similar(positive=['virtue', 'learning'], negative=['riches'])"
   ]
  },
  {
   "cell_type": "markdown",
   "metadata": {},
   "source": [
    "# 4. Open Questions\n",
    "At this point, we have seen a number of mathemetical operations that we may use to explore word2vec's word embeddings. These enable us to answer a set of new, interesting questions dealing with semantics, yet there are many other questions that remain unanswered.\n",
    "\n",
    "For example:\n",
    "<ol>\n",
    "<li>How to compare word usages in different texts (within the same model)?</li>\n",
    "<li>How to compare word meanings in different models? compare whole models?</li>\n",
    "<li>What about the space “in between” words?</li>\n",
    "<li>Do we agree with the Distributional Hypothesis that words with the same contexts share their meanings?</li>\n",
    "<ol><li>If not, then what information do we think is encoded in a word’s context?</li></ol>\n",
    "<li>What good, humanistic research questions do analogies shed light on?</li>\n",
    "<ol><li>shades of meaning?</li><li>context similarity?</li></ol>\n",
    "</ol>"
   ]
  }
 ],
 "metadata": {
  "kernelspec": {
   "display_name": "Python 3",
   "language": "python",
   "name": "python3"
  },
  "language_info": {
   "codemirror_mode": {
    "name": "ipython",
    "version": 3
   },
   "file_extension": ".py",
   "mimetype": "text/x-python",
   "name": "python",
   "nbconvert_exporter": "python",
   "pygments_lexer": "ipython3",
   "version": "3.6.1"
  }
 },
 "nbformat": 4,
 "nbformat_minor": 1
}
